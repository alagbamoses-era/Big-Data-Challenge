{
  "nbformat": 4,
  "nbformat_minor": 0,
  "metadata": {
    "colab": {
      "name": "BigData_Level2_2.ipynb",
      "provenance": [],
      "collapsed_sections": []
    },
    "kernelspec": {
      "name": "python3",
      "display_name": "Python 3"
    },
    "language_info": {
      "name": "python"
    }
  },
  "cells": [
    {
      "cell_type": "code",
      "execution_count": 1,
      "metadata": {
        "colab": {
          "base_uri": "https://localhost:8080/"
        },
        "id": "Agmef3CffdND",
        "outputId": "61bd75f9-114f-4295-9424-736c0a0cf942"
      },
      "outputs": [
        {
          "output_type": "stream",
          "name": "stdout",
          "text": [
            "\r0% [Working]\r            \rHit:1 https://developer.download.nvidia.com/compute/cuda/repos/ubuntu1804/x86_64  InRelease\n",
            "\r0% [Connecting to archive.ubuntu.com] [Connecting to security.ubuntu.com] [Wait\r                                                                               \rGet:2 https://cloud.r-project.org/bin/linux/ubuntu bionic-cran40/ InRelease [3,626 B]\n",
            "Ign:3 https://developer.download.nvidia.com/compute/machine-learning/repos/ubuntu1804/x86_64  InRelease\n",
            "Hit:4 https://developer.download.nvidia.com/compute/machine-learning/repos/ubuntu1804/x86_64  Release\n",
            "Get:5 http://ppa.launchpad.net/c2d4u.team/c2d4u4.0+/ubuntu bionic InRelease [15.9 kB]\n",
            "Hit:6 http://archive.ubuntu.com/ubuntu bionic InRelease\n",
            "Get:7 http://security.ubuntu.com/ubuntu bionic-security InRelease [88.7 kB]\n",
            "Get:9 http://archive.ubuntu.com/ubuntu bionic-updates InRelease [88.7 kB]\n",
            "Hit:10 http://ppa.launchpad.net/cran/libgit2/ubuntu bionic InRelease\n",
            "Get:11 http://archive.ubuntu.com/ubuntu bionic-backports InRelease [74.6 kB]\n",
            "Hit:12 http://ppa.launchpad.net/deadsnakes/ppa/ubuntu bionic InRelease\n",
            "Get:13 http://archive.ubuntu.com/ubuntu bionic-updates/main amd64 Packages [3,167 kB]\n",
            "Hit:14 http://ppa.launchpad.net/graphics-drivers/ppa/ubuntu bionic InRelease\n",
            "Get:15 http://ppa.launchpad.net/c2d4u.team/c2d4u4.0+/ubuntu bionic/main Sources [1,950 kB]\n",
            "Get:16 http://ppa.launchpad.net/c2d4u.team/c2d4u4.0+/ubuntu bionic/main amd64 Packages [999 kB]\n",
            "Fetched 6,388 kB in 7s (933 kB/s)\n",
            "Reading package lists... Done\n"
          ]
        }
      ],
      "source": [
        "import os\n",
        "# Find the latest version of spark 3.0  from http://www-us.apache.org/dist/spark/ and enter as the spark version\n",
        "# For example:\n",
        "spark_version = 'spark-3.2.1'\n",
        "os.environ['SPARK_VERSION']=spark_version\n",
        "# Install Spark and Java\n",
        "!apt-get update\n",
        "!apt-get install openjdk-11-jdk-headless -qq > /dev/null\n",
        "!wget -q https://dlcdn.apache.org/spark/$SPARK_VERSION/$SPARK_VERSION-bin-hadoop3.2.tgz\n",
        "!tar xf $SPARK_VERSION-bin-hadoop3.2.tgz\n",
        "!pip install -q findspark\n",
        "# Set Environment Variables\n",
        "import os\n",
        "os.environ[\"JAVA_HOME\"] = \"/usr/lib/jvm/java-11-openjdk-amd64\"\n",
        "os.environ[\"SPARK_HOME\"] = f\"/content/{spark_version}-bin-hadoop3.2\"\n",
        "# Start a SparkSession\n",
        "import findspark\n",
        "findspark.init()"
      ]
    },
    {
      "cell_type": "code",
      "source": [
        "!wget https://jdbc.postgresql.org/download/postgresql-42.2.9.jar"
      ],
      "metadata": {
        "colab": {
          "base_uri": "https://localhost:8080/"
        },
        "id": "rkd7s1ARfmcp",
        "outputId": "53632f90-2ad7-4064-ce4b-a7b148a903a3"
      },
      "execution_count": 2,
      "outputs": [
        {
          "output_type": "stream",
          "name": "stdout",
          "text": [
            "--2022-04-30 17:22:51--  https://jdbc.postgresql.org/download/postgresql-42.2.9.jar\n",
            "Resolving jdbc.postgresql.org (jdbc.postgresql.org)... 72.32.157.228, 2001:4800:3e1:1::228\n",
            "Connecting to jdbc.postgresql.org (jdbc.postgresql.org)|72.32.157.228|:443... connected.\n",
            "HTTP request sent, awaiting response... 200 OK\n",
            "Length: 914037 (893K) [application/java-archive]\n",
            "Saving to: ‘postgresql-42.2.9.jar’\n",
            "\n",
            "postgresql-42.2.9.j 100%[===================>] 892.61K  1.30MB/s    in 0.7s    \n",
            "\n",
            "2022-04-30 17:22:53 (1.30 MB/s) - ‘postgresql-42.2.9.jar’ saved [914037/914037]\n",
            "\n"
          ]
        }
      ]
    },
    {
      "cell_type": "code",
      "source": [
        "from pyspark.sql import SparkSession"
      ],
      "metadata": {
        "id": "twCQ0B_pf0qB"
      },
      "execution_count": 4,
      "outputs": []
    },
    {
      "cell_type": "code",
      "source": [
        "spark_engine = SparkSession.builder.appName(\"bigdata_level_1\").config(\"spark.driver.extraClassPath\",\"/content/postgresql-42.2.9.jar\").getOrCreate()"
      ],
      "metadata": {
        "id": "h2bWLuysgCbi"
      },
      "execution_count": 5,
      "outputs": []
    },
    {
      "cell_type": "code",
      "source": [
        "# Load Amazon Data into Spark DataFrame\n",
        "\n",
        "from pyspark import SparkFiles\n",
        "url = \"https://s3.amazonaws.com/amazon-reviews-pds/tsv/amazon_reviews_us_Music_v1_00.tsv.gz\"\n",
        "spark_engine.sparkContext.addFile(url)\n",
        "amazon_reviews_df= spark_engine.read.csv(SparkFiles.get(\"amazon_reviews_us_Music_v1_00.tsv.gz\"), sep=\"\\t\", header=True, inferSchema=True)"
      ],
      "metadata": {
        "id": "xafwMsRjgKG2"
      },
      "execution_count": 6,
      "outputs": []
    },
    {
      "cell_type": "code",
      "source": [
        "# Filter by votes\n",
        "filter_dataset = amazon_reviews_df.select([\"star_rating\", \"helpful_votes\", \"total_votes\", \"vine\", \"verified_purchase\"])"
      ],
      "metadata": {
        "id": "czpEvargghwB"
      },
      "execution_count": 8,
      "outputs": []
    },
    {
      "cell_type": "code",
      "source": [
        "# Filter for greater than 20 total votes\n",
        "filter_dataset= filter_dataset.filter(filter_dataset[\"total_votes\"]>20)\n",
        "filter_dataset.show(10)"
      ],
      "metadata": {
        "colab": {
          "base_uri": "https://localhost:8080/"
        },
        "id": "QIk2V4lvg74x",
        "outputId": "7fb9f662-4a6e-458c-da92-07a4be70018d"
      },
      "execution_count": 11,
      "outputs": [
        {
          "output_type": "stream",
          "name": "stdout",
          "text": [
            "+-----------+-------------+-----------+----+-----------------+\n",
            "|star_rating|helpful_votes|total_votes|vine|verified_purchase|\n",
            "+-----------+-------------+-----------+----+-----------------+\n",
            "|          3|           25|         26|   N|                Y|\n",
            "|          5|           25|         26|   N|                N|\n",
            "|          5|           19|         21|   N|                Y|\n",
            "|          5|           46|         48|   N|                N|\n",
            "|          4|           46|         46|   N|                N|\n",
            "|          5|          292|        300|   N|                N|\n",
            "|          4|           21|         22|   N|                N|\n",
            "|          5|           26|         26|   N|                N|\n",
            "|          2|           11|         22|   N|                N|\n",
            "|          5|           26|         30|   N|                Y|\n",
            "+-----------+-------------+-----------+----+-----------------+\n",
            "only showing top 10 rows\n",
            "\n"
          ]
        }
      ]
    },
    {
      "cell_type": "code",
      "source": [
        "# # Filter for greater than 50% of helpful votes\n",
        "helpful_percentage_df = filter_dataset.filter(filter_dataset[\"helpful_votes\"]/filter_dataset[\"total_votes\"]>=0.5)\n",
        "helpful_percentage_df.show(10)"
      ],
      "metadata": {
        "colab": {
          "base_uri": "https://localhost:8080/"
        },
        "id": "Z7_q5bNrhkDh",
        "outputId": "d20edb33-dec3-41a4-b06b-8564ee82a5d3"
      },
      "execution_count": 13,
      "outputs": [
        {
          "output_type": "stream",
          "name": "stdout",
          "text": [
            "+-----------+-------------+-----------+----+-----------------+\n",
            "|star_rating|helpful_votes|total_votes|vine|verified_purchase|\n",
            "+-----------+-------------+-----------+----+-----------------+\n",
            "|          3|           25|         26|   N|                Y|\n",
            "|          5|           25|         26|   N|                N|\n",
            "|          5|           19|         21|   N|                Y|\n",
            "|          5|           46|         48|   N|                N|\n",
            "|          4|           46|         46|   N|                N|\n",
            "|          5|          292|        300|   N|                N|\n",
            "|          4|           21|         22|   N|                N|\n",
            "|          5|           26|         26|   N|                N|\n",
            "|          2|           11|         22|   N|                N|\n",
            "|          5|           26|         30|   N|                Y|\n",
            "+-----------+-------------+-----------+----+-----------------+\n",
            "only showing top 10 rows\n",
            "\n"
          ]
        }
      ]
    },
    {
      "cell_type": "code",
      "source": [
        "# Descriptive statistics for paid reviews\n",
        "vine_df = helpful_percentage_df.filter(helpful_percentage_df[\"vine\"]== 'Y')\n",
        "vine_df.describe().show(10)"
      ],
      "metadata": {
        "colab": {
          "base_uri": "https://localhost:8080/"
        },
        "id": "jpgrtjkViPLj",
        "outputId": "5913109a-2142-42c3-ee12-ab5b4ba8e2e2"
      },
      "execution_count": 14,
      "outputs": [
        {
          "output_type": "stream",
          "name": "stdout",
          "text": [
            "+-------+------------------+------------------+------------------+----+-----------------+\n",
            "|summary|       star_rating|     helpful_votes|       total_votes|vine|verified_purchase|\n",
            "+-------+------------------+------------------+------------------+----+-----------------+\n",
            "|  count|                 7|                 7|                 7|   7|                7|\n",
            "|   mean|3.5714285714285716|26.857142857142858|31.714285714285715|null|             null|\n",
            "| stddev|0.5345224838248488|13.582201238245238|14.032275720807439|null|             null|\n",
            "|    min|                 3|                15|                21|   Y|                N|\n",
            "|    max|                 4|                54|                58|   Y|                N|\n",
            "+-------+------------------+------------------+------------------+----+-----------------+\n",
            "\n"
          ]
        }
      ]
    },
    {
      "cell_type": "code",
      "source": [
        "# Descriptive statistics for unpaid reviews\n",
        "vine_df_n = helpful_percentage_df.filter(helpful_percentage_df[\"vine\"]== 'N')\n",
        "vine_df_n.describe().show(10)"
      ],
      "metadata": {
        "colab": {
          "base_uri": "https://localhost:8080/"
        },
        "id": "4t4S3lyQjPOQ",
        "outputId": "137927c8-b59b-4e09-f39e-cdb93a2e36e6"
      },
      "execution_count": 15,
      "outputs": [
        {
          "output_type": "stream",
          "name": "stdout",
          "text": [
            "+-------+------------------+------------------+------------------+-----+-----------------+\n",
            "|summary|       star_rating|     helpful_votes|       total_votes| vine|verified_purchase|\n",
            "+-------+------------------+------------------+------------------+-----+-----------------+\n",
            "|  count|             96798|             96798|             96798|96798|            96798|\n",
            "|   mean| 4.202493853178785| 36.11625240190913| 40.40868612987872| null|             null|\n",
            "| stddev|1.2867927548410474|37.094365757438574|39.728175223837276| null|             null|\n",
            "|    min|                 1|                11|                21|    N|                N|\n",
            "|    max|                 5|              2181|              2246|    N|                Y|\n",
            "+-------+------------------+------------------+------------------+-----+-----------------+\n",
            "\n"
          ]
        }
      ]
    }
  ]
}