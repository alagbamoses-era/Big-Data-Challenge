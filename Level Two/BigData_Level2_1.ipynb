{
  "nbformat": 4,
  "nbformat_minor": 0,
  "metadata": {
    "colab": {
      "name": "BigData_Level2_1.ipynb",
      "provenance": [],
      "collapsed_sections": []
    },
    "kernelspec": {
      "name": "python3",
      "display_name": "Python 3"
    },
    "language_info": {
      "name": "python"
    }
  },
  "cells": [
    {
      "cell_type": "code",
      "execution_count": 1,
      "metadata": {
        "colab": {
          "base_uri": "https://localhost:8080/"
        },
        "id": "Agmef3CffdND",
        "outputId": "b45f986e-b612-43a2-abe1-14d0bf32d5aa"
      },
      "outputs": [
        {
          "output_type": "stream",
          "name": "stdout",
          "text": [
            "Get:1 http://security.ubuntu.com/ubuntu bionic-security InRelease [88.7 kB]\n",
            "Hit:2 http://archive.ubuntu.com/ubuntu bionic InRelease\n",
            "Get:3 http://archive.ubuntu.com/ubuntu bionic-updates InRelease [88.7 kB]\n",
            "Hit:4 https://developer.download.nvidia.com/compute/cuda/repos/ubuntu1804/x86_64  InRelease\n",
            "Ign:5 https://developer.download.nvidia.com/compute/machine-learning/repos/ubuntu1804/x86_64  InRelease\n",
            "Hit:6 https://developer.download.nvidia.com/compute/machine-learning/repos/ubuntu1804/x86_64  Release\n",
            "Get:7 http://archive.ubuntu.com/ubuntu bionic-backports InRelease [74.6 kB]\n",
            "Get:8 http://ppa.launchpad.net/c2d4u.team/c2d4u4.0+/ubuntu bionic InRelease [15.9 kB]\n",
            "Get:9 https://cloud.r-project.org/bin/linux/ubuntu bionic-cran40/ InRelease [3,626 B]\n",
            "Hit:10 http://ppa.launchpad.net/cran/libgit2/ubuntu bionic InRelease\n",
            "Hit:11 http://ppa.launchpad.net/deadsnakes/ppa/ubuntu bionic InRelease\n",
            "Hit:12 http://ppa.launchpad.net/graphics-drivers/ppa/ubuntu bionic InRelease\n",
            "Get:13 http://archive.ubuntu.com/ubuntu bionic-updates/main amd64 Packages [3,167 kB]\n",
            "Get:15 http://ppa.launchpad.net/c2d4u.team/c2d4u4.0+/ubuntu bionic/main Sources [1,950 kB]\n",
            "Get:16 http://ppa.launchpad.net/c2d4u.team/c2d4u4.0+/ubuntu bionic/main amd64 Packages [999 kB]\n",
            "Fetched 6,388 kB in 5s (1,343 kB/s)\n",
            "Reading package lists... Done\n"
          ]
        }
      ],
      "source": [
        "import os\n",
        "# Find the latest version of spark 3.0  from http://www-us.apache.org/dist/spark/ and enter as the spark version\n",
        "# For example:\n",
        "spark_version = 'spark-3.2.1'\n",
        "os.environ['SPARK_VERSION']=spark_version\n",
        "# Install Spark and Java\n",
        "!apt-get update\n",
        "!apt-get install openjdk-11-jdk-headless -qq > /dev/null\n",
        "!wget -q https://dlcdn.apache.org/spark/$SPARK_VERSION/$SPARK_VERSION-bin-hadoop3.2.tgz\n",
        "!tar xf $SPARK_VERSION-bin-hadoop3.2.tgz\n",
        "!pip install -q findspark\n",
        "# Set Environment Variables\n",
        "import os\n",
        "os.environ[\"JAVA_HOME\"] = \"/usr/lib/jvm/java-11-openjdk-amd64\"\n",
        "os.environ[\"SPARK_HOME\"] = f\"/content/{spark_version}-bin-hadoop3.2\"\n",
        "# Start a SparkSession\n",
        "import findspark\n",
        "findspark.init()"
      ]
    },
    {
      "cell_type": "code",
      "source": [
        "!wget https://jdbc.postgresql.org/download/postgresql-42.2.9.jar"
      ],
      "metadata": {
        "colab": {
          "base_uri": "https://localhost:8080/"
        },
        "id": "rkd7s1ARfmcp",
        "outputId": "45b48663-9c6a-4bb5-9446-43e7e1337470"
      },
      "execution_count": 2,
      "outputs": [
        {
          "output_type": "stream",
          "name": "stdout",
          "text": [
            "--2022-04-30 17:44:43--  https://jdbc.postgresql.org/download/postgresql-42.2.9.jar\n",
            "Resolving jdbc.postgresql.org (jdbc.postgresql.org)... 72.32.157.228, 2001:4800:3e1:1::228\n",
            "Connecting to jdbc.postgresql.org (jdbc.postgresql.org)|72.32.157.228|:443... connected.\n",
            "HTTP request sent, awaiting response... 200 OK\n",
            "Length: 914037 (893K) [application/java-archive]\n",
            "Saving to: ‘postgresql-42.2.9.jar’\n",
            "\n",
            "postgresql-42.2.9.j 100%[===================>] 892.61K  --.-KB/s    in 0.1s    \n",
            "\n",
            "2022-04-30 17:44:43 (5.97 MB/s) - ‘postgresql-42.2.9.jar’ saved [914037/914037]\n",
            "\n"
          ]
        }
      ]
    },
    {
      "cell_type": "code",
      "source": [
        "from pyspark.sql import SparkSession"
      ],
      "metadata": {
        "id": "twCQ0B_pf0qB"
      },
      "execution_count": 3,
      "outputs": []
    },
    {
      "cell_type": "code",
      "source": [
        "spark_engine = SparkSession.builder.appName(\"bigdata_level_1\").config(\"spark.driver.extraClassPath\",\"/content/postgresql-42.2.9.jar\").getOrCreate()"
      ],
      "metadata": {
        "id": "h2bWLuysgCbi"
      },
      "execution_count": 4,
      "outputs": []
    },
    {
      "cell_type": "code",
      "source": [
        "# Load Amazon Data into Spark DataFrame\n",
        "\n",
        "from pyspark import SparkFiles\n",
        "url = \"https://s3.amazonaws.com/amazon-reviews-pds/tsv/amazon_reviews_us_Watches_v1_00.tsv.gz\"\n",
        "spark_engine.sparkContext.addFile(url)\n",
        "amazon_reviews_df= spark_engine.read.csv(SparkFiles.get(\"amazon_reviews_us_Watches_v1_00.tsv.gz\"), sep=\"\\t\", header=True, inferSchema=True)"
      ],
      "metadata": {
        "id": "xafwMsRjgKG2"
      },
      "execution_count": 5,
      "outputs": []
    },
    {
      "cell_type": "code",
      "source": [
        "# Filter by votes\n",
        "filter_dataset = amazon_reviews_df.select([\"star_rating\", \"helpful_votes\", \"total_votes\", \"vine\", \"verified_purchase\"])"
      ],
      "metadata": {
        "id": "czpEvargghwB"
      },
      "execution_count": 6,
      "outputs": []
    },
    {
      "cell_type": "code",
      "source": [
        "# Filter for greater than 20 total votes\n",
        "filter_dataset= filter_dataset.filter(filter_dataset[\"total_votes\"]>20)\n",
        "filter_dataset.show(10)"
      ],
      "metadata": {
        "colab": {
          "base_uri": "https://localhost:8080/"
        },
        "id": "QIk2V4lvg74x",
        "outputId": "47808667-61ba-4aeb-811f-5f117238a9e6"
      },
      "execution_count": 7,
      "outputs": [
        {
          "output_type": "stream",
          "name": "stdout",
          "text": [
            "+-----------+-------------+-----------+----+-----------------+\n",
            "|star_rating|helpful_votes|total_votes|vine|verified_purchase|\n",
            "+-----------+-------------+-----------+----+-----------------+\n",
            "|          5|           30|         30|   N|                Y|\n",
            "|          1|            8|         30|   N|                N|\n",
            "|          5|           35|         37|   N|                Y|\n",
            "|          5|           19|         22|   N|                Y|\n",
            "|          5|           27|         28|   N|                Y|\n",
            "|          4|           25|         26|   N|                Y|\n",
            "|          5|           25|         27|   N|                Y|\n",
            "|          5|           26|         28|   N|                Y|\n",
            "|          5|           48|         49|   N|                N|\n",
            "|          5|           49|         52|   Y|                N|\n",
            "+-----------+-------------+-----------+----+-----------------+\n",
            "only showing top 10 rows\n",
            "\n"
          ]
        }
      ]
    },
    {
      "cell_type": "code",
      "source": [
        "# # Filter for greater than 50% of helpful votes\n",
        "helpful_percentage_df = filter_dataset.filter(filter_dataset[\"helpful_votes\"]/filter_dataset[\"total_votes\"]>=0.5)\n",
        "helpful_percentage_df.show(10)"
      ],
      "metadata": {
        "colab": {
          "base_uri": "https://localhost:8080/"
        },
        "id": "Z7_q5bNrhkDh",
        "outputId": "bfabf6e4-ba36-4c30-adfe-4b05e005f72e"
      },
      "execution_count": 8,
      "outputs": [
        {
          "output_type": "stream",
          "name": "stdout",
          "text": [
            "+-----------+-------------+-----------+----+-----------------+\n",
            "|star_rating|helpful_votes|total_votes|vine|verified_purchase|\n",
            "+-----------+-------------+-----------+----+-----------------+\n",
            "|          5|           30|         30|   N|                Y|\n",
            "|          5|           35|         37|   N|                Y|\n",
            "|          5|           19|         22|   N|                Y|\n",
            "|          5|           27|         28|   N|                Y|\n",
            "|          4|           25|         26|   N|                Y|\n",
            "|          5|           25|         27|   N|                Y|\n",
            "|          5|           26|         28|   N|                Y|\n",
            "|          5|           48|         49|   N|                N|\n",
            "|          5|           49|         52|   Y|                N|\n",
            "|          5|           27|         28|   N|                Y|\n",
            "+-----------+-------------+-----------+----+-----------------+\n",
            "only showing top 10 rows\n",
            "\n"
          ]
        }
      ]
    },
    {
      "cell_type": "code",
      "source": [
        "# Descriptive statistics for paid reviews\n",
        "vine_df = helpful_percentage_df.filter(helpful_percentage_df[\"vine\"]== 'Y')\n",
        "vine_df.describe().show(10)"
      ],
      "metadata": {
        "colab": {
          "base_uri": "https://localhost:8080/"
        },
        "id": "jpgrtjkViPLj",
        "outputId": "44ea6f86-3ddb-49d6-a08f-2c14c122287b"
      },
      "execution_count": 9,
      "outputs": [
        {
          "output_type": "stream",
          "name": "stdout",
          "text": [
            "+-------+------------------+------------------+------------------+----+-----------------+\n",
            "|summary|       star_rating|     helpful_votes|       total_votes|vine|verified_purchase|\n",
            "+-------+------------------+------------------+------------------+----+-----------------+\n",
            "|  count|                43|                43|                43|  43|               43|\n",
            "|   mean|3.9069767441860463| 45.02325581395349| 50.51162790697674|null|             null|\n",
            "| stddev|1.0870220019758676|53.599257445146534|56.920735234778675|null|             null|\n",
            "|    min|                 1|                13|                21|   Y|                N|\n",
            "|    max|                 5|               349|               370|   Y|                N|\n",
            "+-------+------------------+------------------+------------------+----+-----------------+\n",
            "\n"
          ]
        }
      ]
    },
    {
      "cell_type": "code",
      "source": [
        "# Descriptive statistics for unpaid reviews\n",
        "vine_df_n = helpful_percentage_df.filter(helpful_percentage_df[\"vine\"]== 'N')\n",
        "vine_df_n.describe().show(10)"
      ],
      "metadata": {
        "colab": {
          "base_uri": "https://localhost:8080/"
        },
        "id": "4t4S3lyQjPOQ",
        "outputId": "fab1350f-8373-4b57-f49c-b480c1a96cf3"
      },
      "execution_count": 11,
      "outputs": [
        {
          "output_type": "stream",
          "name": "stdout",
          "text": [
            "+-------+------------------+-----------------+-----------------+----+-----------------+\n",
            "|summary|       star_rating|    helpful_votes|      total_votes|vine|verified_purchase|\n",
            "+-------+------------------+-----------------+-----------------+----+-----------------+\n",
            "|  count|              7750|             7750|             7750|7750|             7750|\n",
            "|   mean|3.8033548387096774|44.35006451612903|49.28812903225806|null|             null|\n",
            "| stddev|1.5225882483738482|76.50421718944474|82.83273224719669|null|             null|\n",
            "|    min|                 1|               11|               21|   N|                N|\n",
            "|    max|                 5|             4004|             4249|   N|                Y|\n",
            "+-------+------------------+-----------------+-----------------+----+-----------------+\n",
            "\n"
          ]
        }
      ]
    }
  ]
}